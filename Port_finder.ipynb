{
 "cells": [
  {
   "cell_type": "code",
   "execution_count": 10,
   "metadata": {},
   "outputs": [],
   "source": [
    "import socket"
   ]
  },
  {
   "cell_type": "code",
   "execution_count": 11,
   "metadata": {},
   "outputs": [],
   "source": [
    "# Функция поиска открытых портов в хосте\n",
    "# Передаём в функцию хост, первый номер порта, последний номер порта\n",
    "\n",
    "def finder_open_socket(host,st_prt, end_prt):\n",
    "#     создаём сокет\n",
    "    s = socket.socket()\n",
    "    \n",
    "#     В цикле проходим от порты от первого до полсденего\n",
    "    for i in range(st_prt, end_prt+1):\n",
    "        \n",
    "        try:\n",
    "            s.connect((host, i))\n",
    "            print(f'port {i} is available')\n",
    "#             s.settimeout(0.2)\n",
    "        except:\n",
    "            print(f'port {i} is not available')\n",
    "    s.close()"
   ]
  },
  {
   "cell_type": "code",
   "execution_count": 13,
   "metadata": {},
   "outputs": [
    {
     "name": "stdout",
     "output_type": "stream",
     "text": [
      "port 1990 is not available\n",
      "port 1991 is not available\n",
      "port 1992 is not available\n",
      "port 1993 is not available\n",
      "port 1994 is not available\n",
      "port 1995 is not available\n",
      "port 1996 is not available\n",
      "port 1997 is not available\n",
      "port 1998 is not available\n",
      "port 1999 is not available\n",
      "port 2000 is available\n"
     ]
    }
   ],
   "source": [
    "finder_open_socket('localhost', 1990, 2000)"
   ]
  }
 ],
 "metadata": {
  "kernelspec": {
   "display_name": "Python 3",
   "language": "python",
   "name": "python3"
  },
  "language_info": {
   "codemirror_mode": {
    "name": "ipython",
    "version": 3
   },
   "file_extension": ".py",
   "mimetype": "text/x-python",
   "name": "python",
   "nbconvert_exporter": "python",
   "pygments_lexer": "ipython3",
   "version": "3.8.5"
  }
 },
 "nbformat": 4,
 "nbformat_minor": 4
}
